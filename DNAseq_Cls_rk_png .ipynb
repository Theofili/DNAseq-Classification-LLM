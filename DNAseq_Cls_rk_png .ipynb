{
  "cells": [
    {
      "cell_type": "markdown",
      "source": [
        "# **Overview**\n",
        "\n",
        "### Pre-trained finetuned Hugging face model for DNA sequence classification\n",
        "\n",
        "####**Chosen pretrained model:**\n",
        "\n",
        "* Mistral-DNA-v1-17M-hg38.\n",
        "\n",
        "####**Dataset used:**\n",
        "\n",
        "* Ensemle protein-coding sequences from all human chomosomes, containing words `'kinase'` and `'receptor'` in their description.\n",
        "\n",
        "####**Output:**\n",
        "\n",
        "* The model **predicts** whether a user input sequence classifies as either of the 2 protein characteristics."
      ],
      "metadata": {
        "id": "q0VobLJv-37i"
      }
    },
    {
      "cell_type": "markdown",
      "metadata": {
        "id": "tpc1FKtfSLxs"
      },
      "source": [
        "## **Load the Mistral-DNA git**"
      ]
    },
    {
      "cell_type": "code",
      "execution_count": 1,
      "metadata": {
        "colab": {
          "base_uri": "https://localhost:8080/"
        },
        "collapsed": true,
        "id": "PYGWfepgL8wD",
        "outputId": "4e3c52bf-5f77-44ae-9912-72443b685093"
      },
      "outputs": [
        {
          "output_type": "stream",
          "name": "stdout",
          "text": [
            "Cloning into 'Mistral-DNA'...\n",
            "remote: Enumerating objects: 331, done.\u001b[K\n",
            "remote: Counting objects: 100% (96/96), done.\u001b[K\n",
            "remote: Compressing objects: 100% (90/90), done.\u001b[K\n",
            "remote: Total 331 (delta 27), reused 30 (delta 5), pack-reused 235 (from 1)\u001b[K\n",
            "Receiving objects: 100% (331/331), 112.69 MiB | 11.81 MiB/s, done.\n",
            "Resolving deltas: 100% (100/100), done.\n"
          ]
        }
      ],
      "source": [
        "!git clone https://github.com/raphaelmourad/Mistral-DNA.git\n"
      ]
    },
    {
      "cell_type": "code",
      "source": [
        "!pip install bitsandbytes"
      ],
      "metadata": {
        "id": "z6eTxTNICLlz"
      },
      "execution_count": null,
      "outputs": []
    },
    {
      "cell_type": "markdown",
      "metadata": {
        "id": "P4eA6brPSUsj"
      },
      "source": [
        "## **Import Python Libraries**"
      ]
    },
    {
      "cell_type": "code",
      "execution_count": 3,
      "metadata": {
        "colab": {
          "base_uri": "https://localhost:8080/"
        },
        "id": "ua6suaRmSLUg",
        "outputId": "c2e16d24-abad-45f0-d2ec-f72819847572"
      },
      "outputs": [
        {
          "output_type": "execute_result",
          "data": {
            "text/plain": [
              "device(type='cuda')"
            ]
          },
          "metadata": {},
          "execution_count": 3
        }
      ],
      "source": [
        "import torch\n",
        "torch.device('cuda' if torch.cuda.is_available() else 'cpu')"
      ]
    },
    {
      "cell_type": "code",
      "execution_count": 4,
      "metadata": {
        "id": "ECMq1M8fSY9V"
      },
      "outputs": [],
      "source": [
        "# Load basic modules\n",
        "import os\n",
        "import sys\n",
        "import time\n",
        "#import flash_attn   #cannont install and import for some reason\n",
        "from os import path\n",
        "import gc\n",
        "\n",
        "# Load data modules\n",
        "import numpy as np\n",
        "import pandas as pd\n",
        "from random import randrange\n",
        "from progressbar import ProgressBar\n",
        "\n",
        "# Load machine learning modules\n",
        "#import triton\n",
        "import transformers\n",
        "from torch.utils.data import TensorDataset, DataLoader\n",
        "from torch.distributed.fsdp.fully_sharded_data_parallel import FullOptimStateDictConfig, FullStateDictConfig\n",
        "from transformers import AutoTokenizer, AutoModel, EarlyStoppingCallback, set_seed, BitsAndBytesConfig\n",
        "from accelerate import FullyShardedDataParallelPlugin, Accelerator\n",
        "from peft import (\n",
        "    LoraConfig,\n",
        "    get_peft_model,\n",
        "    get_peft_model_state_dict,\n",
        "    prepare_model_for_kbit_training,\n",
        ")"
      ]
    },
    {
      "cell_type": "code",
      "execution_count": 5,
      "metadata": {
        "id": "eNuz15hmTHTz"
      },
      "outputs": [],
      "source": [
        "#Set an environment variable that configures how PyTorch manages CUDA memory allocations\n",
        "os.environ[\"PYTORCH_CUDA_ALLOC_CONF\"] = \"max_split_size_mb:512\""
      ]
    },
    {
      "cell_type": "code",
      "execution_count": 6,
      "metadata": {
        "colab": {
          "base_uri": "https://localhost:8080/"
        },
        "collapsed": true,
        "id": "eKoutf4kTQQ7",
        "outputId": "326ff2f6-766a-4fd2-8714-4be73c7aef4a"
      },
      "outputs": [
        {
          "output_type": "stream",
          "name": "stdout",
          "text": [
            "/content/Mistral-DNA\n"
          ]
        }
      ],
      "source": [
        "# Make sure the git is loaded\n",
        "#os.chdir(\"Mistral-DNA/\")\n",
        "os.chdir('/content/Mistral-DNA')\n",
        "!pwd"
      ]
    },
    {
      "cell_type": "code",
      "execution_count": 7,
      "metadata": {
        "id": "wyHjDY4NTTO1"
      },
      "outputs": [],
      "source": [
        "model_name=\"RaphaelMourad/Mistral-DNA-v1-17M-hg38\""
      ]
    },
    {
      "cell_type": "code",
      "execution_count": 8,
      "metadata": {
        "id": "Gbk1n6YsTT8N"
      },
      "outputs": [],
      "source": [
        "# Import the build in functions module\n",
        "sys.path.append(\"scriptPython/\")\n",
        "from functions import *"
      ]
    },
    {
      "cell_type": "markdown",
      "metadata": {
        "id": "WWMiJCMcTXGm"
      },
      "source": [
        "## **Set up *Quantization* mesures**\n",
        "\n",
        "* **bnb_config:** 4bit-quantization\n",
        "* **FSDP_plugin:** free up GPU memory by off-loading to cpu\n",
        "* **Parameter-Efficient-Fine-Tuning**\n",
        "\n"
      ]
    },
    {
      "cell_type": "code",
      "execution_count": 9,
      "metadata": {
        "colab": {
          "base_uri": "https://localhost:8080/"
        },
        "id": "ov46mkB5TaP1",
        "outputId": "9bbe3905-6b8d-4dcd-c6c0-7e2edc78e800"
      },
      "outputs": [
        {
          "output_type": "stream",
          "name": "stdout",
          "text": [
            "Initialazing bnb configuration...\n",
            "\n",
            "Done!\n"
          ]
        }
      ],
      "source": [
        "print('Initialazing bnb configuration...\\n')\n",
        "bnb_config = BitsAndBytesConfig(\n",
        "    load_in_4bit=True,\n",
        "    bnb_4bit_use_double_quant=True,\n",
        "    bnb_4bit_compute_dtype=torch.bfloat16\n",
        ")\n",
        "#print(bnb_config)\n",
        "print('Done!')"
      ]
    },
    {
      "cell_type": "code",
      "execution_count": 10,
      "metadata": {
        "id": "o7LagVGKThHD",
        "colab": {
          "base_uri": "https://localhost:8080/"
        },
        "outputId": "c272eab8-ad93-449c-90e9-79645e9e1e39"
      },
      "outputs": [
        {
          "output_type": "stream",
          "name": "stdout",
          "text": [
            "Initialazing FSDP configuration...\n",
            "\n",
            "Done!\n"
          ]
        }
      ],
      "source": [
        "print('Initialazing FSDP configuration...\\n')\n",
        "fsdp_plugin = FullyShardedDataParallelPlugin(\n",
        "    state_dict_config=FullStateDictConfig(offload_to_cpu=True, rank0_only=False),\n",
        "    optim_state_dict_config=FullOptimStateDictConfig(offload_to_cpu=True, rank0_only=False),\n",
        ")\n",
        "accelerator = Accelerator(fsdp_plugin=fsdp_plugin)\n",
        "#print(fsdp_plugin, '\\n')\n",
        "print('Done!')"
      ]
    },
    {
      "cell_type": "code",
      "execution_count": 11,
      "metadata": {
        "id": "Yd251cn1Tip0",
        "colab": {
          "base_uri": "https://localhost:8080/"
        },
        "outputId": "e4158cbc-81e4-4f77-cf81-56d16e08608b"
      },
      "outputs": [
        {
          "output_type": "stream",
          "name": "stdout",
          "text": [
            "Initialazing Parameter-Efficient-Fine-Tuning...\n",
            "\n",
            "Done!\n"
          ]
        }
      ],
      "source": [
        "print('Initialazing Parameter-Efficient-Fine-Tuning...\\n')\n",
        "peft_config = LoraConfig(\n",
        "        r=16,\n",
        "        lora_alpha=16,\n",
        "        lora_dropout=0.5, #prevents overfitting\n",
        "        bias=\"none\",\n",
        "        task_type=\"SEQ_CLS\",\n",
        "        target_modules=[\"q_proj\", \"k_proj\", \"v_proj\", \"o_proj\",\"gate_proj\"]\n",
        "    )\n",
        "#print(peft_config, '\\n')\n",
        "print('Done!')"
      ]
    },
    {
      "cell_type": "markdown",
      "source": [
        "# **Set up the Training Arguments**\n",
        "\n",
        "\n",
        "\n"
      ],
      "metadata": {
        "id": "mIGStAG3FBrH"
      }
    },
    {
      "cell_type": "code",
      "execution_count": 12,
      "metadata": {
        "id": "jNUYbsnzTVHr",
        "colab": {
          "base_uri": "https://localhost:8080/"
        },
        "outputId": "e2fc8b8b-0f9e-4d4e-c1b4-1c273496a3b2"
      },
      "outputs": [
        {
          "output_type": "stream",
          "name": "stdout",
          "text": [
            "Initialazing Training Arguments...\n",
            "\n",
            "Done!\n"
          ]
        }
      ],
      "source": [
        "print('Initialazing Training Arguments...\\n')\n",
        "training_args = transformers.TrainingArguments(\n",
        "    output_dir=\"./results\",\n",
        "    eval_strategy=\"epoch\",\n",
        "    save_strategy=\"epoch\",\n",
        "    logging_steps=10,\n",
        "    learning_rate=2e-5,  # Adjusted learning rate for binary classification\n",
        "    per_device_train_batch_size=16,\n",
        "    per_device_eval_batch_size=16,\n",
        "    num_train_epochs=20,\n",
        "    weight_decay=0.1,\n",
        "    bf16=False, #FALSE IN GPU PERFORMS BETTER???\n",
        "    report_to=\"none\",\n",
        "    load_best_model_at_end = True,\n",
        ")\n",
        "\n",
        "import os\n",
        "os.environ[\"WANDB_DISABLED\"] = \"true\"\n",
        "\n",
        "#print(training_args, '\\n')\n",
        "print('Done!')"
      ]
    },
    {
      "cell_type": "markdown",
      "source": [
        "#**Prepare the tokenizer**\n"
      ],
      "metadata": {
        "id": "dOko8PCqFdRS"
      }
    },
    {
      "cell_type": "code",
      "execution_count": 13,
      "metadata": {
        "id": "J84XIBGtT0b3",
        "colab": {
          "base_uri": "https://localhost:8080/",
          "height": 245,
          "referenced_widgets": [
            "3e385f6259524f90a7c62c834f26e2ad",
            "8330eabbce1e4262ad41dbc06ce38623",
            "e9cee71e6b314a34876eb4ebc035d5fd",
            "47d87edf1c914036b5fd83091e03d257",
            "f343db9ec2974b929d76eabad346335e",
            "401b00e2c86d420196349b8cc075ca61",
            "fe8b3cbc3eee4d238b3e5693e2adbff6",
            "72037594224c4353acd37287f960227f",
            "4c16005871a449aeb6007b83ff0909e7",
            "9777875b50b94fcd9b9cf797d25edaaf",
            "831488847c654e55929b640ccffb3221",
            "0b95e41bdadf4d11918f849abc2f9c4e",
            "76f55883ce484583a2f984c6565d0beb",
            "1f0bcb662e6846e2a236fb8598226986",
            "e8ada483d8744ee6ae51699a86a5fb1e",
            "c28b8d7889fc480892dd0f4e461f458c",
            "4f6eeee3eaaf44698faf71fae4744c3b",
            "415dd3c223b247ce96216affb7b66a90",
            "0648381966a546cb8739ac31dd513a0e",
            "b6d9c1c9c7e94cd78663ada54ec43875",
            "e05cf3c9a992464c8dd90b0e1f9518bc",
            "6011165202d9469fb5bd6851c0d8a837"
          ]
        },
        "outputId": "92fc4e1a-93aa-41e1-b106-78a506699481"
      },
      "outputs": [
        {
          "output_type": "stream",
          "name": "stdout",
          "text": [
            "Load tokenizer...\n",
            "\n"
          ]
        },
        {
          "output_type": "stream",
          "name": "stderr",
          "text": [
            "/usr/local/lib/python3.11/dist-packages/huggingface_hub/utils/_auth.py:94: UserWarning: \n",
            "The secret `HF_TOKEN` does not exist in your Colab secrets.\n",
            "To authenticate with the Hugging Face Hub, create a token in your settings tab (https://huggingface.co/settings/tokens), set it as secret in your Google Colab and restart your session.\n",
            "You will be able to reuse this secret in all of your notebooks.\n",
            "Please note that authentication is recommended but still optional to access public models or datasets.\n",
            "  warnings.warn(\n"
          ]
        },
        {
          "output_type": "display_data",
          "data": {
            "text/plain": [
              "tokenizer_config.json:   0%|          | 0.00/158 [00:00<?, ?B/s]"
            ],
            "application/vnd.jupyter.widget-view+json": {
              "version_major": 2,
              "version_minor": 0,
              "model_id": "3e385f6259524f90a7c62c834f26e2ad"
            }
          },
          "metadata": {}
        },
        {
          "output_type": "display_data",
          "data": {
            "text/plain": [
              "tokenizer.json: 0.00B [00:00, ?B/s]"
            ],
            "application/vnd.jupyter.widget-view+json": {
              "version_major": 2,
              "version_minor": 0,
              "model_id": "0b95e41bdadf4d11918f849abc2f9c4e"
            }
          },
          "metadata": {}
        },
        {
          "output_type": "stream",
          "name": "stdout",
          "text": [
            "Done!\n"
          ]
        }
      ],
      "source": [
        "# load tokenizer\n",
        "print('Load tokenizer...\\n')\n",
        "tokenizer = transformers.AutoTokenizer.from_pretrained(\n",
        "    model_name,\n",
        "    model_max_length=1000,\n",
        "    padding_side=\"left\",\n",
        "    use_fast=True,\n",
        "    trust_remote_code=True,\n",
        ")\n",
        "tokenizer.eos_token='[EOS]'\n",
        "tokenizer.pad_token = '[PAD]'\n",
        "#print(tokenizer, '\\n')\n",
        "print('Done!')"
      ]
    },
    {
      "cell_type": "markdown",
      "metadata": {
        "id": "rR3Its9hTk6X"
      },
      "source": [
        "## **Load and Visualize the data from R**\n"
      ]
    },
    {
      "cell_type": "code",
      "execution_count": 15,
      "metadata": {
        "colab": {
          "base_uri": "https://localhost:8080/"
        },
        "id": "ZTd_Zm1XTkGU",
        "outputId": "094381f4-b046-47f6-b8fc-7843b7552a00"
      },
      "outputs": [
        {
          "output_type": "stream",
          "name": "stdout",
          "text": [
            "The structure of the dataset \n",
            ":                                                  coding  type\n",
            "0     ATGGGTCGAAAGGAAGAAGATGACTGCAGTTCCTGGAAGAAACAGA...     1\n",
            "1     ATGAATAATCAAAAAGTGGTAGCTGTGCTACTGCAAGAGTGCAAGC...     1\n",
            "2     ATGAACATACACAGGTCTACCCCCATCACAATAGCGAGATATGGGA...     1\n",
            "3     ATGGCTTTTGCCAATTTCCGCCGCATCCTGCGCCTGTCTACCTTCG...     1\n",
            "4     ATGGCGGAGCACGCCCCTCGCCGCTGCTGCCTGGGCTGGGACTTCA...     1\n",
            "...                                                 ...   ...\n",
            "8132  ATGGGTGACGCAGAAGGCGAAGACGAGGTCCAGTTCCTGCGGACGA...     0\n",
            "8133  ATGGGGCCCTGGGGCTGGAAATTGCGCTGGACCGTCGCCTTGCTCC...     0\n",
            "8134  ATGGGAGGGCACCCGCAGCTCCGTCTCGTCAAGGCTCCACCTGAAC...     0\n",
            "8135  ATGCTGGGCACCGTGCTGCTGCTGGCCCTGCTCCCAGGGATCACCA...     0\n",
            "8136  ATGGCGGCGCCGCTCATCCCCCTCTCCCAGCAGATTCCCACTGGAA...     0\n",
            "\n",
            "[8137 rows x 2 columns]\n",
            "The ratio between lables is\n",
            ": type\n",
            "0    4449\n",
            "1    3688\n",
            "Name: count, dtype: int64\n",
            "The longest sequence in the dataframe is: 18921\n",
            "The shortest sequence in the dataframe is: 3\n"
          ]
        }
      ],
      "source": [
        "num_labels=2 # make it binary classification beacause i dont know if it works with 3\n",
        "\n",
        "# Load csv from R\n",
        "df = pd.read_csv('/content/Mistral-DNA/rk.csv')\n",
        "\n",
        "df = df.drop('Unnamed: 0', axis=1 )\n",
        "\n",
        "# Convert labels into zeros and ones\n",
        "\n",
        "df['type'] = df['type'].map({'kinase': 1, 'receptor': 0})\n",
        "\n",
        "# Structure of the dataset\n",
        "print(f'The structure of the dataset \\n: {df}')\n",
        "\n",
        "longest_seq = df['coding'].str.len().max()\n",
        "shortest_seq = df['coding'].str.len().min()\n",
        "ratio = df.value_counts('type')\n",
        "\n",
        "print(f'The ratio between lables is\\n: {ratio}')\n",
        "print(f'The longest sequence in the dataframe is: {longest_seq}')\n",
        "print(f'The shortest sequence in the dataframe is: {shortest_seq}')"
      ]
    },
    {
      "cell_type": "markdown",
      "source": [
        "### **Normalize dataset values**\n",
        "\n",
        "\n",
        "* Use specific sequence lengths corresponding to coding sequences\n",
        "* Even distribution between type 0 and 1 data"
      ],
      "metadata": {
        "id": "u5aM2ogKO_KY"
      }
    },
    {
      "cell_type": "code",
      "source": [
        "# Filter sequences lengths - keep only\n",
        "filtered_list = []\n",
        "\n",
        "for index, row in df.iterrows():\n",
        "  coding = row['coding']\n",
        "  if len(coding) >= 1000 and len(coding) <= 5000:\n",
        "    filtered_list.append(row.to_dict())\n",
        "\n",
        "df = pd.DataFrame(filtered_list)\n",
        "\n",
        "longest_seq = df['coding'].str.len().max()\n",
        "shortest_seq = df['coding'].str.len().min()\n",
        "ratio = df.value_counts('type')\n",
        "\n",
        "print(f'The ratio between lables is\\n: {ratio}')\n",
        "print(f'The longest sequence in the dataframe is: {longest_seq}')\n",
        "print(f'The shortest sequence in the dataframe is: {shortest_seq}')"
      ],
      "metadata": {
        "colab": {
          "base_uri": "https://localhost:8080/"
        },
        "id": "b05SBWXfO-5e",
        "outputId": "f5bf3896-52d7-49ae-c755-5f9cc99289e8"
      },
      "execution_count": 16,
      "outputs": [
        {
          "output_type": "stream",
          "name": "stdout",
          "text": [
            "The ratio between lables is\n",
            ": type\n",
            "0    1998\n",
            "1    1698\n",
            "Name: count, dtype: int64\n",
            "The longest sequence in the dataframe is: 4992\n",
            "The shortest sequence in the dataframe is: 1001\n"
          ]
        }
      ]
    },
    {
      "cell_type": "markdown",
      "source": [
        "# **Split data into:**\n",
        "\n",
        "* **Training**\n",
        "* **Validation**\n",
        "* **Testing**"
      ],
      "metadata": {
        "id": "tkUGazHIPkv5"
      }
    },
    {
      "cell_type": "code",
      "execution_count": 17,
      "metadata": {
        "colab": {
          "base_uri": "https://localhost:8080/"
        },
        "id": "M4D-CMPJVCcK",
        "outputId": "bd678110-6d2a-476a-da1e-8747aaf50e62"
      },
      "outputs": [
        {
          "output_type": "stream",
          "name": "stderr",
          "text": [
            "WARNING:root:Perform single sequence classification...\n"
          ]
        },
        {
          "output_type": "stream",
          "name": "stdout",
          "text": [
            "Training data saved to: temp_train.csv\n",
            "Validation data saved to: temp_val.csv\n",
            "Test data saved to: temp_test.csv\n"
          ]
        },
        {
          "output_type": "stream",
          "name": "stderr",
          "text": [
            "WARNING:root:Perform single sequence classification...\n",
            "WARNING:root:Perform single sequence classification...\n"
          ]
        },
        {
          "output_type": "stream",
          "name": "stdout",
          "text": [
            "Training dataset size: 2956\n",
            "Validation dataset size: 370\n",
            "Test dataset size: 370\n"
          ]
        }
      ],
      "source": [
        "from sklearn.model_selection import train_test_split\n",
        "\n",
        "## Defining all these so that I can use the Supervised dataset to pass the\n",
        "# split data through a tokenizer\n",
        "\n",
        "# Split the dataframe into training, validation, and test sets\n",
        "train_df, temp_df = train_test_split(df, test_size=0.2, random_state=42)\n",
        "val_df, test_df = train_test_split(temp_df, test_size=0.5, random_state=42)\n",
        "\n",
        "import os\n",
        "\n",
        "# Define temporary file paths\n",
        "temp_train_path = \"temp_train.csv\"\n",
        "temp_val_path = \"temp_val.csv\"\n",
        "temp_test_path = \"temp_test.csv\"\n",
        "\n",
        "# Save DataFrames to CSV files\n",
        "train_df.to_csv(temp_train_path, index=False)\n",
        "val_df.to_csv(temp_val_path, index=False)\n",
        "test_df.to_csv(temp_test_path, index=False)\n",
        "\n",
        "print(f\"Training data saved to: {temp_train_path}\")\n",
        "print(f\"Validation data saved to: {temp_val_path}\")\n",
        "print(f\"Test data saved to: {temp_test_path}\")\n",
        "\n",
        "# Define datasets using the temporary file paths\n",
        "train_dataset = SupervisedDataset(tokenizer=tokenizer, data_path=temp_train_path, kmer=-1)\n",
        "val_dataset = SupervisedDataset(tokenizer=tokenizer, data_path=temp_val_path, kmer=-1)\n",
        "test_dataset = SupervisedDataset(tokenizer=tokenizer, data_path=temp_test_path, kmer=-1)\n",
        "\n",
        "data_collator = DataCollatorForSupervisedDataset(tokenizer=tokenizer)\n",
        "\n",
        "print(\"Training dataset size:\", len(train_dataset))\n",
        "print(\"Validation dataset size:\", len(val_dataset))\n",
        "print(\"Test dataset size:\", len(test_dataset))"
      ]
    },
    {
      "cell_type": "code",
      "execution_count": 18,
      "metadata": {
        "colab": {
          "base_uri": "https://localhost:8080/",
          "height": 172,
          "referenced_widgets": [
            "e3f47d6b01ca4064b33399b6820027bf",
            "67fa29eadb2b432fb000c8e2c6530013",
            "fd2c7db11fe94ed2a653c0765470e258",
            "058f55f59c7a46928b2fb33a67e8ee42",
            "9bc636e88552405b9ff4fa0a370d55d5",
            "55ecd5baaf61468f8c56fe81acba8bfd",
            "6bce2652663e4a17891330273eb235fd",
            "bc234e6c735048e5ab314624d7661bc0",
            "218a7a74ca3e485dab5e2bbd9765a5e0",
            "27e46c80ffa549758533aceb8ec09972",
            "20f9a14be2654ef4b25901925c9a9865",
            "5d0d41a485b845d5bf2d8cc1bcd36334",
            "a7d4f2dfb1534c3dbeb0d1508163cb23",
            "05c3cb2ede3749899870c768db6c80e0",
            "eaebca23a08440b0a490519dbd105828",
            "5c85775fc4094b069899aed39cc7f745",
            "0f0c1175b1c54ca0bcbad3929d668aef",
            "5a1163595d0843ea819cdfddc8a07d64",
            "662f80b4117b4887a707d599a36e0829",
            "a3dc7f84f153409e968dca225d427fbb",
            "f00d53fac2a1403abef3ddaf24d23b5b",
            "dcc6c784203547b495d5ebefec3252a2"
          ]
        },
        "id": "Wd7boyOQHMdl",
        "outputId": "6f782f70-cc39-490f-ee32-c26b196f97bd",
        "collapsed": true
      },
      "outputs": [
        {
          "output_type": "stream",
          "name": "stdout",
          "text": [
            "Model loading...\n",
            "\n"
          ]
        },
        {
          "output_type": "display_data",
          "data": {
            "text/plain": [
              "config.json:   0%|          | 0.00/793 [00:00<?, ?B/s]"
            ],
            "application/vnd.jupyter.widget-view+json": {
              "version_major": 2,
              "version_minor": 0,
              "model_id": "e3f47d6b01ca4064b33399b6820027bf"
            }
          },
          "metadata": {}
        },
        {
          "output_type": "display_data",
          "data": {
            "text/plain": [
              "model.safetensors:   0%|          | 0.00/33.6M [00:00<?, ?B/s]"
            ],
            "application/vnd.jupyter.widget-view+json": {
              "version_major": 2,
              "version_minor": 0,
              "model_id": "5d0d41a485b845d5bf2d8cc1bcd36334"
            }
          },
          "metadata": {}
        },
        {
          "output_type": "stream",
          "name": "stderr",
          "text": [
            "Some weights of MixtralForSequenceClassification were not initialized from the model checkpoint at RaphaelMourad/Mistral-DNA-v1-17M-hg38 and are newly initialized: ['score.weight']\n",
            "You should probably TRAIN this model on a down-stream task to be able to use it for predictions and inference.\n"
          ]
        },
        {
          "output_type": "stream",
          "name": "stdout",
          "text": [
            "Done!\n"
          ]
        }
      ],
      "source": [
        "# load model\n",
        "print('Model loading...\\n')\n",
        "model=transformers.AutoModelForSequenceClassification.from_pretrained(\n",
        "    model_name,\n",
        "    num_labels=num_labels,\n",
        "    output_hidden_states=False,\n",
        "    #quantization_config=bnb_config,\n",
        "    device_map='auto',\n",
        "    trust_remote_code=True,\n",
        ")\n",
        "model.config.pad_token_id = tokenizer.pad_token_id\n",
        "#print(model, '\\n')\n",
        "print('Done!')"
      ]
    },
    {
      "cell_type": "code",
      "execution_count": 19,
      "metadata": {
        "colab": {
          "base_uri": "https://localhost:8080/",
          "height": 671
        },
        "collapsed": true,
        "id": "zO-nT1H0VIpd",
        "outputId": "f8aea3b5-b03c-44b8-bcc3-ae56f1e07483"
      },
      "outputs": [
        {
          "output_type": "stream",
          "name": "stdout",
          "text": [
            "Initialize trainer...\n",
            "\n",
            "Training started\n",
            "\n"
          ]
        },
        {
          "output_type": "display_data",
          "data": {
            "text/plain": [
              "<IPython.core.display.HTML object>"
            ],
            "text/html": [
              "\n",
              "    <div>\n",
              "      \n",
              "      <progress value='1193' max='3700' style='width:300px; height:20px; vertical-align: middle;'></progress>\n",
              "      [1193/3700 12:19 < 25:56, 1.61 it/s, Epoch 6.44/20]\n",
              "    </div>\n",
              "    <table border=\"1\" class=\"dataframe\">\n",
              "  <thead>\n",
              " <tr style=\"text-align: left;\">\n",
              "      <th>Epoch</th>\n",
              "      <th>Training Loss</th>\n",
              "      <th>Validation Loss</th>\n",
              "      <th>Accuracy</th>\n",
              "      <th>F1</th>\n",
              "      <th>Matthews Correlation</th>\n",
              "      <th>Precision</th>\n",
              "      <th>Recall</th>\n",
              "    </tr>\n",
              "  </thead>\n",
              "  <tbody>\n",
              "    <tr>\n",
              "      <td>1</td>\n",
              "      <td>0.661700</td>\n",
              "      <td>0.663121</td>\n",
              "      <td>0.616216</td>\n",
              "      <td>0.601111</td>\n",
              "      <td>0.249465</td>\n",
              "      <td>0.635074</td>\n",
              "      <td>0.615182</td>\n",
              "    </tr>\n",
              "    <tr>\n",
              "      <td>2</td>\n",
              "      <td>0.579800</td>\n",
              "      <td>0.523527</td>\n",
              "      <td>0.735135</td>\n",
              "      <td>0.734639</td>\n",
              "      <td>0.472774</td>\n",
              "      <td>0.737388</td>\n",
              "      <td>0.735390</td>\n",
              "    </tr>\n",
              "    <tr>\n",
              "      <td>3</td>\n",
              "      <td>0.498000</td>\n",
              "      <td>0.462876</td>\n",
              "      <td>0.789189</td>\n",
              "      <td>0.785268</td>\n",
              "      <td>0.598324</td>\n",
              "      <td>0.810238</td>\n",
              "      <td>0.788482</td>\n",
              "    </tr>\n",
              "    <tr>\n",
              "      <td>4</td>\n",
              "      <td>0.337700</td>\n",
              "      <td>0.395240</td>\n",
              "      <td>0.827027</td>\n",
              "      <td>0.826845</td>\n",
              "      <td>0.654901</td>\n",
              "      <td>0.828026</td>\n",
              "      <td>0.826876</td>\n",
              "    </tr>\n",
              "    <tr>\n",
              "      <td>5</td>\n",
              "      <td>0.282600</td>\n",
              "      <td>0.411506</td>\n",
              "      <td>0.810811</td>\n",
              "      <td>0.809559</td>\n",
              "      <td>0.628554</td>\n",
              "      <td>0.818206</td>\n",
              "      <td>0.810396</td>\n",
              "    </tr>\n",
              "    <tr>\n",
              "      <td>6</td>\n",
              "      <td>0.192000</td>\n",
              "      <td>0.420745</td>\n",
              "      <td>0.810811</td>\n",
              "      <td>0.809872</td>\n",
              "      <td>0.626648</td>\n",
              "      <td>0.816220</td>\n",
              "      <td>0.810455</td>\n",
              "    </tr>\n",
              "  </tbody>\n",
              "</table><p>"
            ]
          },
          "metadata": {}
        },
        {
          "output_type": "error",
          "ename": "KeyboardInterrupt",
          "evalue": "",
          "traceback": [
            "\u001b[0;31m---------------------------------------------------------------------------\u001b[0m",
            "\u001b[0;31mKeyboardInterrupt\u001b[0m                         Traceback (most recent call last)",
            "\u001b[0;32m/tmp/ipython-input-14934260.py\u001b[0m in \u001b[0;36m<cell line: 0>\u001b[0;34m()\u001b[0m\n\u001b[1;32m     11\u001b[0m \u001b[0mprint\u001b[0m\u001b[0;34m(\u001b[0m\u001b[0;34m'Training started\\n'\u001b[0m\u001b[0;34m)\u001b[0m\u001b[0;34m\u001b[0m\u001b[0;34m\u001b[0m\u001b[0m\n\u001b[1;32m     12\u001b[0m \u001b[0mtrainer\u001b[0m\u001b[0;34m.\u001b[0m\u001b[0mlocal_rank\u001b[0m\u001b[0;34m=\u001b[0m\u001b[0mtraining_args\u001b[0m\u001b[0;34m.\u001b[0m\u001b[0mlocal_rank\u001b[0m\u001b[0;34m\u001b[0m\u001b[0;34m\u001b[0m\u001b[0m\n\u001b[0;32m---> 13\u001b[0;31m \u001b[0mtrainer\u001b[0m\u001b[0;34m.\u001b[0m\u001b[0mtrain\u001b[0m\u001b[0;34m(\u001b[0m\u001b[0;34m)\u001b[0m\u001b[0;34m\u001b[0m\u001b[0;34m\u001b[0m\u001b[0m\n\u001b[0m\u001b[1;32m     14\u001b[0m \u001b[0mprint\u001b[0m\u001b[0;34m(\u001b[0m\u001b[0;34m'Done'\u001b[0m\u001b[0;34m)\u001b[0m\u001b[0;34m\u001b[0m\u001b[0;34m\u001b[0m\u001b[0m\n",
            "\u001b[0;32m/usr/local/lib/python3.11/dist-packages/transformers/trainer.py\u001b[0m in \u001b[0;36mtrain\u001b[0;34m(self, resume_from_checkpoint, trial, ignore_keys_for_eval, **kwargs)\u001b[0m\n\u001b[1;32m   2235\u001b[0m                 \u001b[0mhf_hub_utils\u001b[0m\u001b[0;34m.\u001b[0m\u001b[0menable_progress_bars\u001b[0m\u001b[0;34m(\u001b[0m\u001b[0;34m)\u001b[0m\u001b[0;34m\u001b[0m\u001b[0;34m\u001b[0m\u001b[0m\n\u001b[1;32m   2236\u001b[0m         \u001b[0;32melse\u001b[0m\u001b[0;34m:\u001b[0m\u001b[0;34m\u001b[0m\u001b[0;34m\u001b[0m\u001b[0m\n\u001b[0;32m-> 2237\u001b[0;31m             return inner_training_loop(\n\u001b[0m\u001b[1;32m   2238\u001b[0m                 \u001b[0margs\u001b[0m\u001b[0;34m=\u001b[0m\u001b[0margs\u001b[0m\u001b[0;34m,\u001b[0m\u001b[0;34m\u001b[0m\u001b[0;34m\u001b[0m\u001b[0m\n\u001b[1;32m   2239\u001b[0m                 \u001b[0mresume_from_checkpoint\u001b[0m\u001b[0;34m=\u001b[0m\u001b[0mresume_from_checkpoint\u001b[0m\u001b[0;34m,\u001b[0m\u001b[0;34m\u001b[0m\u001b[0;34m\u001b[0m\u001b[0m\n",
            "\u001b[0;32m/usr/local/lib/python3.11/dist-packages/transformers/trainer.py\u001b[0m in \u001b[0;36m_inner_training_loop\u001b[0;34m(self, batch_size, args, resume_from_checkpoint, trial, ignore_keys_for_eval)\u001b[0m\n\u001b[1;32m   2581\u001b[0m                         \u001b[0margs\u001b[0m\u001b[0;34m.\u001b[0m\u001b[0mlogging_nan_inf_filter\u001b[0m\u001b[0;34m\u001b[0m\u001b[0;34m\u001b[0m\u001b[0m\n\u001b[1;32m   2582\u001b[0m                         \u001b[0;32mand\u001b[0m \u001b[0;32mnot\u001b[0m \u001b[0mis_torch_xla_available\u001b[0m\u001b[0;34m(\u001b[0m\u001b[0;34m)\u001b[0m\u001b[0;34m\u001b[0m\u001b[0;34m\u001b[0m\u001b[0m\n\u001b[0;32m-> 2583\u001b[0;31m                         \u001b[0;32mand\u001b[0m \u001b[0;34m(\u001b[0m\u001b[0mtorch\u001b[0m\u001b[0;34m.\u001b[0m\u001b[0misnan\u001b[0m\u001b[0;34m(\u001b[0m\u001b[0mtr_loss_step\u001b[0m\u001b[0;34m)\u001b[0m \u001b[0;32mor\u001b[0m \u001b[0mtorch\u001b[0m\u001b[0;34m.\u001b[0m\u001b[0misinf\u001b[0m\u001b[0;34m(\u001b[0m\u001b[0mtr_loss_step\u001b[0m\u001b[0;34m)\u001b[0m\u001b[0;34m)\u001b[0m\u001b[0;34m\u001b[0m\u001b[0;34m\u001b[0m\u001b[0m\n\u001b[0m\u001b[1;32m   2584\u001b[0m                     ):\n\u001b[1;32m   2585\u001b[0m                         \u001b[0;31m# if loss is nan or inf simply add the average of previous logged losses\u001b[0m\u001b[0;34m\u001b[0m\u001b[0;34m\u001b[0m\u001b[0m\n",
            "\u001b[0;31mKeyboardInterrupt\u001b[0m: "
          ]
        }
      ],
      "source": [
        "print('Initialize trainer...\\n')\n",
        "trainer = transformers.Trainer(model=model,\n",
        "    args=training_args,\n",
        "    compute_metrics=compute_metrics,\n",
        "    train_dataset=train_dataset,\n",
        "    eval_dataset=val_dataset,\n",
        "    data_collator=data_collator,\n",
        "    callbacks = [EarlyStoppingCallback(early_stopping_patience=3)]\n",
        "  )\n",
        "\n",
        "print('Training started\\n')\n",
        "trainer.local_rank=training_args.local_rank\n",
        "trainer.train()\n",
        "print('Done')"
      ]
    },
    {
      "cell_type": "code",
      "execution_count": 20,
      "metadata": {
        "colab": {
          "base_uri": "https://localhost:8080/",
          "height": 391
        },
        "id": "Z-kVJH9WVLhF",
        "outputId": "3f8579f8-e082-4e62-8150-48204a94aa03"
      },
      "outputs": [
        {
          "output_type": "display_data",
          "data": {
            "text/plain": [
              "<IPython.core.display.HTML object>"
            ],
            "text/html": [
              "\n",
              "    <div>\n",
              "      \n",
              "      <progress value='1193' max='3700' style='width:300px; height:20px; vertical-align: middle;'></progress>\n",
              "      [1193/3700 12:19 < 25:56, 1.61 it/s, Epoch 6.44/20]\n",
              "    </div>\n",
              "    <table border=\"1\" class=\"dataframe\">\n",
              "  <thead>\n",
              " <tr style=\"text-align: left;\">\n",
              "      <th>Epoch</th>\n",
              "      <th>Training Loss</th>\n",
              "      <th>Validation Loss</th>\n",
              "      <th>Accuracy</th>\n",
              "      <th>F1</th>\n",
              "      <th>Matthews Correlation</th>\n",
              "      <th>Precision</th>\n",
              "      <th>Recall</th>\n",
              "    </tr>\n",
              "  </thead>\n",
              "  <tbody>\n",
              "    <tr>\n",
              "      <td>1</td>\n",
              "      <td>0.661700</td>\n",
              "      <td>0.663121</td>\n",
              "      <td>0.616216</td>\n",
              "      <td>0.601111</td>\n",
              "      <td>0.249465</td>\n",
              "      <td>0.635074</td>\n",
              "      <td>0.615182</td>\n",
              "    </tr>\n",
              "    <tr>\n",
              "      <td>2</td>\n",
              "      <td>0.579800</td>\n",
              "      <td>0.523527</td>\n",
              "      <td>0.735135</td>\n",
              "      <td>0.734639</td>\n",
              "      <td>0.472774</td>\n",
              "      <td>0.737388</td>\n",
              "      <td>0.735390</td>\n",
              "    </tr>\n",
              "    <tr>\n",
              "      <td>3</td>\n",
              "      <td>0.498000</td>\n",
              "      <td>0.462876</td>\n",
              "      <td>0.789189</td>\n",
              "      <td>0.785268</td>\n",
              "      <td>0.598324</td>\n",
              "      <td>0.810238</td>\n",
              "      <td>0.788482</td>\n",
              "    </tr>\n",
              "    <tr>\n",
              "      <td>4</td>\n",
              "      <td>0.337700</td>\n",
              "      <td>0.395240</td>\n",
              "      <td>0.827027</td>\n",
              "      <td>0.826845</td>\n",
              "      <td>0.654901</td>\n",
              "      <td>0.828026</td>\n",
              "      <td>0.826876</td>\n",
              "    </tr>\n",
              "    <tr>\n",
              "      <td>5</td>\n",
              "      <td>0.282600</td>\n",
              "      <td>0.411506</td>\n",
              "      <td>0.810811</td>\n",
              "      <td>0.809559</td>\n",
              "      <td>0.628554</td>\n",
              "      <td>0.818206</td>\n",
              "      <td>0.810396</td>\n",
              "    </tr>\n",
              "    <tr>\n",
              "      <td>6</td>\n",
              "      <td>0.123800</td>\n",
              "      <td>0.442371</td>\n",
              "      <td>0.810811</td>\n",
              "      <td>0.810805</td>\n",
              "      <td>0.622796</td>\n",
              "      <td>0.811307</td>\n",
              "      <td>0.811489</td>\n",
              "    </tr>\n",
              "  </tbody>\n",
              "</table><p>"
            ]
          },
          "metadata": {}
        },
        {
          "output_type": "stream",
          "name": "stdout",
          "text": [
            "eval_loss                    0.442371\n",
            "eval_accuracy                0.810811\n",
            "eval_f1                      0.810805\n",
            "eval_matthews_correlation    0.622796\n",
            "eval_precision               0.811307\n",
            "eval_recall                  0.811489\n",
            "dtype: float64\n"
          ]
        }
      ],
      "source": [
        "results_path = training_args.output_dir+\"/metrics\"\n",
        "results = trainer.evaluate(eval_dataset=test_dataset)\n",
        "os.makedirs(results_path, exist_ok=True)\n",
        "with open(os.path.join(results_path, \"test_results.json\"), \"w\") as f:\n",
        "    json.dump(results, f)\n",
        "\n",
        "file_metric=\"results/metrics/test_results.json\"\n",
        "data_expe = pd.read_json(file_metric, typ='series')\n",
        "print(data_expe)\n"
      ]
    },
    {
      "cell_type": "code",
      "metadata": {
        "colab": {
          "base_uri": "https://localhost:8080/",
          "height": 1000
        },
        "id": "503d7e29",
        "outputId": "b2be2d14-d1d2-4083-bf09-2d3d497b001a"
      },
      "source": [
        "import pandas as pd\n",
        "import io\n",
        "import matplotlib.pyplot as plt\n",
        "\n",
        "# The training progress data provided by the user\n",
        "data = \"\"\"Epoch   Training Loss   Validation Loss Accuracy        F1      Matthews Correlation    Precision       Recall\n",
        "1       0.661700        0.663121        0.616216        0.601111        0.249465        0.635074        0.615182\n",
        "2       0.579800        0.523527        0.735135        0.734639        0.472774        0.737388        0.735390\n",
        "3       0.498000        0.462876        0.789189        0.785268        0.598324        0.810238        0.788482\n",
        "4       0.337700        0.395240        0.827027        0.826845        0.654901        0.828026        0.826876\n",
        "5       0.282600        0.411506        0.810811        0.809559        0.628554        0.818206        0.810396\n",
        "6       0.123800        0.442371        0.810811        0.810805        0.622796        0.811307        0.811489\n",
        "\"\"\"\n",
        "\n",
        "# Read the data into a pandas DataFrame, skipping the header initially\n",
        "df_progress = pd.read_csv(io.StringIO(data), sep='\\s+', header=None, skiprows=1, engine='python')\n",
        "\n",
        "# Manually assign the correct column names\n",
        "df_progress.columns = ['Epoch', 'Training Loss', 'Validation Loss', 'Accuracy', 'F1', 'Matthews Correlation', 'Precision', 'Recall']\n",
        "\n",
        "\n",
        "# Plotting each metric over epochs\n",
        "metrics_to_plot = ['Training Loss', 'Validation Loss', 'Accuracy', 'F1', 'Matthews Correlation', 'Precision', 'Recall']\n",
        "\n",
        "for metric in metrics_to_plot:\n",
        "    plt.figure(figsize=(8, 5))\n",
        "    plt.plot(df_progress['Epoch'], df_progress[metric], marker='o')\n",
        "    plt.title(f'{metric} over Epochs')\n",
        "    plt.xlabel('Epoch')\n",
        "    plt.ylabel(metric)\n",
        "    plt.grid(True)\n",
        "    plt.show()"
      ],
      "execution_count": 28,
      "outputs": [
        {
          "output_type": "display_data",
          "data": {
            "text/plain": [
              "<Figure size 800x500 with 1 Axes>"
            ],
            "image/png": "[encoded data removed]"
          },
          "metadata": {}
        },
        {
          "output_type": "display_data",
          "data": {
            "text/plain": [
              "<Figure size 800x500 with 1 Axes>"
            ],
            "image/png": "[encoded data removed]"
          },
          "metadata": {}
        },
        {
          "output_type": "display_data",
          "data": {
            "text/plain": [
              "<Figure size 800x500 with 1 Axes>"
            ],
            "image/png": "[encoded data removed]"
          },
          "metadata": {}
        },
        {
          "output_type": "display_data",
          "data": {
            "text/plain": [
              "<Figure size 800x500 with 1 Axes>"
            ],
            "image/png": "[encoded data removed]"
          },
          "metadata": {}
        },
        {
          "output_type": "display_data",
          "data": {
            "text/plain": [
              "<Figure size 800x500 with 1 Axes>"
            ],
            "image/png": "[encoded data removed]"
          },
          "metadata": {}
        },
        {
          "output_type": "display_data",
          "data": {
            "text/plain": [
              "<Figure size 800x500 with 1 Axes>"
            ],
            "image/png": "[encoded data removed]"
          },
          "metadata": {}
        },
        {
          "output_type": "display_data",
          "data": {
            "text/plain": [
              "<Figure size 800x500 with 1 Axes>"
            ],
            "image/png": "[encoded data removed]"
          },
          "metadata": {}
        }
      ]
    },
    {
      "cell_type": "code",
      "execution_count": 29,
      "metadata": {
        "id": "wtqWjJpwWH_Y"
      },
      "outputs": [],
      "source": [
        "def classify_coding_sequences(sequence):\n",
        "\n",
        "  # Check if there is input\n",
        "  if not isinstance(sequence, str) or not sequence:\n",
        "    return \"Invalid input: Please provide a non-empty DNA sequence.\"\n",
        "\n",
        "  # Check if length of input is valid\n",
        "  if len(sequence) > tokenizer.model_max_length:\n",
        "    return f'Input sequence is too long. Maximum length is {tokenizer.model_max_length}.'\n",
        "\n",
        "\n",
        "  # Tokenize the input seq\n",
        "  inputs = tokenizer(sequence, return_tensors='pt', padding=True, truncation=True)\n",
        "\n",
        "\n",
        "  if 'token_type_ids' in inputs:\n",
        "    del inputs['token_type_ids']\n",
        "\n",
        "\n",
        "  # Make sure variables correspond to the device\n",
        "  device = model.device\n",
        "  inputs = {key: value.to(device) for key, value in inputs.items()}\n",
        "\n",
        "  # Use the model to make a prediction\n",
        "  with torch.no_grad():\n",
        "    outputs = model(**inputs)\n",
        "\n",
        "  # Get the output score from the model and use the highest class score\n",
        "  logits = outputs.logits\n",
        "  predicted_class_id = torch.argmax(logits, dim=1).item()\n",
        "\n",
        "\n",
        "  class_labels = ['receptor', 'kinase']\n",
        "  if predicted_class_id < len(class_labels):\n",
        "    return class_labels[predicted_class_id]\n",
        "  else:\n",
        "    return f'Unknown class ID: {predicted_class_id}'\n"
      ]
    },
    {
      "cell_type": "code",
      "execution_count": 30,
      "metadata": {
        "id": "0bDtVDz7XyDI",
        "colab": {
          "base_uri": "https://localhost:8080/",
          "height": 36
        },
        "outputId": "5d71340a-6532-404c-91ff-2f224c5c1e5d"
      },
      "outputs": [
        {
          "output_type": "execute_result",
          "data": {
            "text/plain": [
              "'receptor'"
            ],
            "application/vnd.google.colaboratory.intrinsic+json": {
              "type": "string"
            }
          },
          "metadata": {},
          "execution_count": 30
        }
      ],
      "source": [
        "classify_coding_sequences('GTCAGAATGGCGGCAGCGGAGCATCGTCATTCTTCAGGATTGCCCTGCTGGCCCTACCTCACAGCTGAAGCTTTAAAAAACAGGATGGGCCGCCAGCCACCTCCTCCAACTCAACAACATTCTATAACTGATAACTCCCTGAGCCTCAAGACACCTCCCGAATGTCTCCTTCATCCCCTTCCACCCTCAGTGGATGATAATATCAAGGAGTGTCCTCTTGCTCCTCTTCCACCCTCAGTGGATGATAATCTGAAGGAGTATCTCCTGG')"
      ]
    },
    {
      "cell_type": "code",
      "execution_count": null,
      "metadata": {
        "collapsed": true,
        "id": "ti4HykMDX15Z"
      },
      "outputs": [],
      "source": [
        "#@title Convert ipynb to HTML in Colab\n",
        "# Upload ipynb\n",
        "from google.colab import files\n",
        "f = files.upload()\n",
        "\n",
        "# Convert ipynb to html\n",
        "import subprocess\n",
        "file0 = list(f.keys())[0]\n",
        "_ = subprocess.run([\"pip\", \"install\", \"nbconvert\"])\n",
        "_ = subprocess.run([\"jupyter\", \"nbconvert\", file0, \"--to\", \"html\"])\n",
        "\n",
        "# download the html\n",
        "files.download(file0[:-5]+\"html\")"
      ]
    }
  ],
  "metadata": {
    "colab": {
      "provenance": [],
      "gpuType": "T4"
    },
    "kernelspec": {
      "display_name": "Python 3",
      "name": "python3"
    },
    "language_info": {
      "name": "python"
    },
    "widgets": {
      "application/vnd.jupyter.widget-state+json": {
        "3e385f6259524f90a7c62c834f26e2ad": {
          "model_module": "@jupyter-widgets/controls",
          "model_name": "HBoxModel",
          "model_module_version": "1.5.0",
          "state": {
            "_dom_classes": [],
            "_model_module": "@jupyter-widgets/controls",
            "_model_module_version": "1.5.0",
            "_model_name": "HBoxModel",
            "_view_count": null,
            "_view_module": "@jupyter-widgets/controls",
            "_view_module_version": "1.5.0",
            "_view_name": "HBoxView",
            "box_style": "",
            "children": [
              "IPY_MODEL_8330eabbce1e4262ad41dbc06ce38623",
              "IPY_MODEL_e9cee71e6b314a34876eb4ebc035d5fd",
              "IPY_MODEL_47d87edf1c914036b5fd83091e03d257"
            ],
            "layout": "IPY_MODEL_f343db9ec2974b929d76eabad346335e"
          }
        },
        "8330eabbce1e4262ad41dbc06ce38623": {
          "model_module": "@jupyter-widgets/controls",
          "model_name": "HTMLModel",
          "model_module_version": "1.5.0",
          "state": {
            "_dom_classes": [],
            "_model_module": "@jupyter-widgets/controls",
            "_model_module_version": "1.5.0",
            "_model_name": "HTMLModel",
            "_view_count": null,
            "_view_module": "@jupyter-widgets/controls",
            "_view_module_version": "1.5.0",
            "_view_name": "HTMLView",
            "description": "",
            "description_tooltip": null,
            "layout": "IPY_MODEL_401b00e2c86d420196349b8cc075ca61",
            "placeholder": "​",
            "style": "IPY_MODEL_fe8b3cbc3eee4d238b3e5693e2adbff6",
            "value": "tokenizer_config.json: 100%"
          }
        },
        "e9cee71e6b314a34876eb4ebc035d5fd": {
          "model_module": "@jupyter-widgets/controls",
          "model_name": "FloatProgressModel",
          "model_module_version": "1.5.0",
          "state": {
            "_dom_classes": [],
            "_model_module": "@jupyter-widgets/controls",
            "_model_module_version": "1.5.0",
            "_model_name": "FloatProgressModel",
            "_view_count": null,
            "_view_module": "@jupyter-widgets/controls",
            "_view_module_version": "1.5.0",
            "_view_name": "ProgressView",
            "bar_style": "success",
            "description": "",
            "description_tooltip": null,
            "layout": "IPY_MODEL_72037594224c4353acd37287f960227f",
            "max": 158,
            "min": 0,
            "orientation": "horizontal",
            "style": "IPY_MODEL_4c16005871a449aeb6007b83ff0909e7",
            "value": 158
          }
        },
        "47d87edf1c914036b5fd83091e03d257": {
          "model_module": "@jupyter-widgets/controls",
          "model_name": "HTMLModel",
          "model_module_version": "1.5.0",
          "state": {
            "_dom_classes": [],
            "_model_module": "@jupyter-widgets/controls",
            "_model_module_version": "1.5.0",
            "_model_name": "HTMLModel",
            "_view_count": null,
            "_view_module": "@jupyter-widgets/controls",
            "_view_module_version": "1.5.0",
            "_view_name": "HTMLView",
            "description": "",
            "description_tooltip": null,
            "layout": "IPY_MODEL_9777875b50b94fcd9b9cf797d25edaaf",
            "placeholder": "​",
            "style": "IPY_MODEL_831488847c654e55929b640ccffb3221",
            "value": " 158/158 [00:00&lt;00:00, 6.85kB/s]"
          }
        },
        "f343db9ec2974b929d76eabad346335e": {
          "model_module": "@jupyter-widgets/base",
          "model_name": "LayoutModel",
          "model_module_version": "1.2.0",
          "state": {
            "_model_module": "@jupyter-widgets/base",
            "_model_module_version": "1.2.0",
            "_model_name": "LayoutModel",
            "_view_count": null,
            "_view_module": "@jupyter-widgets/base",
            "_view_module_version": "1.2.0",
            "_view_name": "LayoutView",
            "align_content": null,
            "align_items": null,
            "align_self": null,
            "border": null,
            "bottom": null,
            "display": null,
            "flex": null,
            "flex_flow": null,
            "grid_area": null,
            "grid_auto_columns": null,
            "grid_auto_flow": null,
            "grid_auto_rows": null,
            "grid_column": null,
            "grid_gap": null,
            "grid_row": null,
            "grid_template_areas": null,
            "grid_template_columns": null,
            "grid_template_rows": null,
            "height": null,
            "justify_content": null,
            "justify_items": null,
            "left": null,
            "margin": null,
            "max_height": null,
            "max_width": null,
            "min_height": null,
            "min_width": null,
            "object_fit": null,
            "object_position": null,
            "order": null,
            "overflow": null,
            "overflow_x": null,
            "overflow_y": null,
            "padding": null,
            "right": null,
            "top": null,
            "visibility": null,
            "width": null
          }
        },
        "401b00e2c86d420196349b8cc075ca61": {
          "model_module": "@jupyter-widgets/base",
          "model_name": "LayoutModel",
          "model_module_version": "1.2.0",
          "state": {
            "_model_module": "@jupyter-widgets/base",
            "_model_module_version": "1.2.0",
            "_model_name": "LayoutModel",
            "_view_count": null,
            "_view_module": "@jupyter-widgets/base",
            "_view_module_version": "1.2.0",
            "_view_name": "LayoutView",
            "align_content": null,
            "align_items": null,
            "align_self": null,
            "border": null,
            "bottom": null,
            "display": null,
            "flex": null,
            "flex_flow": null,
            "grid_area": null,
            "grid_auto_columns": null,
            "grid_auto_flow": null,
            "grid_auto_rows": null,
            "grid_column": null,
            "grid_gap": null,
            "grid_row": null,
            "grid_template_areas": null,
            "grid_template_columns": null,
            "grid_template_rows": null,
            "height": null,
            "justify_content": null,
            "justify_items": null,
            "left": null,
            "margin": null,
            "max_height": null,
            "max_width": null,
            "min_height": null,
            "min_width": null,
            "object_fit": null,
            "object_position": null,
            "order": null,
            "overflow": null,
            "overflow_x": null,
            "overflow_y": null,
            "padding": null,
            "right": null,
            "top": null,
            "visibility": null,
            "width": null
          }
        },
        "fe8b3cbc3eee4d238b3e5693e2adbff6": {
          "model_module": "@jupyter-widgets/controls",
          "model_name": "DescriptionStyleModel",
          "model_module_version": "1.5.0",
          "state": {
            "_model_module": "@jupyter-widgets/controls",
            "_model_module_version": "1.5.0",
            "_model_name": "DescriptionStyleModel",
            "_view_count": null,
            "_view_module": "@jupyter-widgets/base",
            "_view_module_version": "1.2.0",
            "_view_name": "StyleView",
            "description_width": ""
          }
        },
        "72037594224c4353acd37287f960227f": {
          "model_module": "@jupyter-widgets/base",
          "model_name": "LayoutModel",
          "model_module_version": "1.2.0",
          "state": {
            "_model_module": "@jupyter-widgets/base",
            "_model_module_version": "1.2.0",
            "_model_name": "LayoutModel",
            "_view_count": null,
            "_view_module": "@jupyter-widgets/base",
            "_view_module_version": "1.2.0",
            "_view_name": "LayoutView",
            "align_content": null,
            "align_items": null,
            "align_self": null,
            "border": null,
            "bottom": null,
            "display": null,
            "flex": null,
            "flex_flow": null,
            "grid_area": null,
            "grid_auto_columns": null,
            "grid_auto_flow": null,
            "grid_auto_rows": null,
            "grid_column": null,
            "grid_gap": null,
            "grid_row": null,
            "grid_template_areas": null,
            "grid_template_columns": null,
            "grid_template_rows": null,
            "height": null,
            "justify_content": null,
            "justify_items": null,
            "left": null,
            "margin": null,
            "max_height": null,
            "max_width": null,
            "min_height": null,
            "min_width": null,
            "object_fit": null,
            "object_position": null,
            "order": null,
            "overflow": null,
            "overflow_x": null,
            "overflow_y": null,
            "padding": null,
            "right": null,
            "top": null,
            "visibility": null,
            "width": null
          }
        },
        "4c16005871a449aeb6007b83ff0909e7": {
          "model_module": "@jupyter-widgets/controls",
          "model_name": "ProgressStyleModel",
          "model_module_version": "1.5.0",
          "state": {
            "_model_module": "@jupyter-widgets/controls",
            "_model_module_version": "1.5.0",
            "_model_name": "ProgressStyleModel",
            "_view_count": null,
            "_view_module": "@jupyter-widgets/base",
            "_view_module_version": "1.2.0",
            "_view_name": "StyleView",
            "bar_color": null,
            "description_width": ""
          }
        },
        "9777875b50b94fcd9b9cf797d25edaaf": {
          "model_module": "@jupyter-widgets/base",
          "model_name": "LayoutModel",
          "model_module_version": "1.2.0",
          "state": {
            "_model_module": "@jupyter-widgets/base",
            "_model_module_version": "1.2.0",
            "_model_name": "LayoutModel",
            "_view_count": null,
            "_view_module": "@jupyter-widgets/base",
            "_view_module_version": "1.2.0",
            "_view_name": "LayoutView",
            "align_content": null,
            "align_items": null,
            "align_self": null,
            "border": null,
            "bottom": null,
            "display": null,
            "flex": null,
            "flex_flow": null,
            "grid_area": null,
            "grid_auto_columns": null,
            "grid_auto_flow": null,
            "grid_auto_rows": null,
            "grid_column": null,
            "grid_gap": null,
            "grid_row": null,
            "grid_template_areas": null,
            "grid_template_columns": null,
            "grid_template_rows": null,
            "height": null,
            "justify_content": null,
            "justify_items": null,
            "left": null,
            "margin": null,
            "max_height": null,
            "max_width": null,
            "min_height": null,
            "min_width": null,
            "object_fit": null,
            "object_position": null,
            "order": null,
            "overflow": null,
            "overflow_x": null,
            "overflow_y": null,
            "padding": null,
            "right": null,
            "top": null,
            "visibility": null,
            "width": null
          }
        },
        "831488847c654e55929b640ccffb3221": {
          "model_module": "@jupyter-widgets/controls",
          "model_name": "DescriptionStyleModel",
          "model_module_version": "1.5.0",
          "state": {
            "_model_module": "@jupyter-widgets/controls",
            "_model_module_version": "1.5.0",
            "_model_name": "DescriptionStyleModel",
            "_view_count": null,
            "_view_module": "@jupyter-widgets/base",
            "_view_module_version": "1.2.0",
            "_view_name": "StyleView",
            "description_width": ""
          }
        },
        "0b95e41bdadf4d11918f849abc2f9c4e": {
          "model_module": "@jupyter-widgets/controls",
          "model_name": "HBoxModel",
          "model_module_version": "1.5.0",
          "state": {
            "_dom_classes": [],
            "_model_module": "@jupyter-widgets/controls",
            "_model_module_version": "1.5.0",
            "_model_name": "HBoxModel",
            "_view_count": null,
            "_view_module": "@jupyter-widgets/controls",
            "_view_module_version": "1.5.0",
            "_view_name": "HBoxView",
            "box_style": "",
            "children": [
              "IPY_MODEL_76f55883ce484583a2f984c6565d0beb",
              "IPY_MODEL_1f0bcb662e6846e2a236fb8598226986",
              "IPY_MODEL_e8ada483d8744ee6ae51699a86a5fb1e"
            ],
            "layout": "IPY_MODEL_c28b8d7889fc480892dd0f4e461f458c"
          }
        },
        "76f55883ce484583a2f984c6565d0beb": {
          "model_module": "@jupyter-widgets/controls",
          "model_name": "HTMLModel",
          "model_module_version": "1.5.0",
          "state": {
            "_dom_classes": [],
            "_model_module": "@jupyter-widgets/controls",
            "_model_module_version": "1.5.0",
            "_model_name": "HTMLModel",
            "_view_count": null,
            "_view_module": "@jupyter-widgets/controls",
            "_view_module_version": "1.5.0",
            "_view_name": "HTMLView",
            "description": "",
            "description_tooltip": null,
            "layout": "IPY_MODEL_4f6eeee3eaaf44698faf71fae4744c3b",
            "placeholder": "​",
            "style": "IPY_MODEL_415dd3c223b247ce96216affb7b66a90",
            "value": "tokenizer.json: "
          }
        },
        "1f0bcb662e6846e2a236fb8598226986": {
          "model_module": "@jupyter-widgets/controls",
          "model_name": "FloatProgressModel",
          "model_module_version": "1.5.0",
          "state": {
            "_dom_classes": [],
            "_model_module": "@jupyter-widgets/controls",
            "_model_module_version": "1.5.0",
            "_model_name": "FloatProgressModel",
            "_view_count": null,
            "_view_module": "@jupyter-widgets/controls",
            "_view_module_version": "1.5.0",
            "_view_name": "ProgressView",
            "bar_style": "success",
            "description": "",
            "description_tooltip": null,
            "layout": "IPY_MODEL_0648381966a546cb8739ac31dd513a0e",
            "max": 1,
            "min": 0,
            "orientation": "horizontal",
            "style": "IPY_MODEL_b6d9c1c9c7e94cd78663ada54ec43875",
            "value": 1
          }
        },
        "e8ada483d8744ee6ae51699a86a5fb1e": {
          "model_module": "@jupyter-widgets/controls",
          "model_name": "HTMLModel",
          "model_module_version": "1.5.0",
          "state": {
            "_dom_classes": [],
            "_model_module": "@jupyter-widgets/controls",
            "_model_module_version": "1.5.0",
            "_model_name": "HTMLModel",
            "_view_count": null,
            "_view_module": "@jupyter-widgets/controls",
            "_view_module_version": "1.5.0",
            "_view_name": "HTMLView",
            "description": "",
            "description_tooltip": null,
            "layout": "IPY_MODEL_e05cf3c9a992464c8dd90b0e1f9518bc",
            "placeholder": "​",
            "style": "IPY_MODEL_6011165202d9469fb5bd6851c0d8a837",
            "value": " 168k/? [00:00&lt;00:00, 3.02MB/s]"
          }
        },
        "c28b8d7889fc480892dd0f4e461f458c": {
          "model_module": "@jupyter-widgets/base",
          "model_name": "LayoutModel",
          "model_module_version": "1.2.0",
          "state": {
            "_model_module": "@jupyter-widgets/base",
            "_model_module_version": "1.2.0",
            "_model_name": "LayoutModel",
            "_view_count": null,
            "_view_module": "@jupyter-widgets/base",
            "_view_module_version": "1.2.0",
            "_view_name": "LayoutView",
            "align_content": null,
            "align_items": null,
            "align_self": null,
            "border": null,
            "bottom": null,
            "display": null,
            "flex": null,
            "flex_flow": null,
            "grid_area": null,
            "grid_auto_columns": null,
            "grid_auto_flow": null,
            "grid_auto_rows": null,
            "grid_column": null,
            "grid_gap": null,
            "grid_row": null,
            "grid_template_areas": null,
            "grid_template_columns": null,
            "grid_template_rows": null,
            "height": null,
            "justify_content": null,
            "justify_items": null,
            "left": null,
            "margin": null,
            "max_height": null,
            "max_width": null,
            "min_height": null,
            "min_width": null,
            "object_fit": null,
            "object_position": null,
            "order": null,
            "overflow": null,
            "overflow_x": null,
            "overflow_y": null,
            "padding": null,
            "right": null,
            "top": null,
            "visibility": null,
            "width": null
          }
        },
        "4f6eeee3eaaf44698faf71fae4744c3b": {
          "model_module": "@jupyter-widgets/base",
          "model_name": "LayoutModel",
          "model_module_version": "1.2.0",
          "state": {
            "_model_module": "@jupyter-widgets/base",
            "_model_module_version": "1.2.0",
            "_model_name": "LayoutModel",
            "_view_count": null,
            "_view_module": "@jupyter-widgets/base",
            "_view_module_version": "1.2.0",
            "_view_name": "LayoutView",
            "align_content": null,
            "align_items": null,
            "align_self": null,
            "border": null,
            "bottom": null,
            "display": null,
            "flex": null,
            "flex_flow": null,
            "grid_area": null,
            "grid_auto_columns": null,
            "grid_auto_flow": null,
            "grid_auto_rows": null,
            "grid_column": null,
            "grid_gap": null,
            "grid_row": null,
            "grid_template_areas": null,
            "grid_template_columns": null,
            "grid_template_rows": null,
            "height": null,
            "justify_content": null,
            "justify_items": null,
            "left": null,
            "margin": null,
            "max_height": null,
            "max_width": null,
            "min_height": null,
            "min_width": null,
            "object_fit": null,
            "object_position": null,
            "order": null,
            "overflow": null,
            "overflow_x": null,
            "overflow_y": null,
            "padding": null,
            "right": null,
            "top": null,
            "visibility": null,
            "width": null
          }
        },
        "415dd3c223b247ce96216affb7b66a90": {
          "model_module": "@jupyter-widgets/controls",
          "model_name": "DescriptionStyleModel",
          "model_module_version": "1.5.0",
          "state": {
            "_model_module": "@jupyter-widgets/controls",
            "_model_module_version": "1.5.0",
            "_model_name": "DescriptionStyleModel",
            "_view_count": null,
            "_view_module": "@jupyter-widgets/base",
            "_view_module_version": "1.2.0",
            "_view_name": "StyleView",
            "description_width": ""
          }
        },
        "0648381966a546cb8739ac31dd513a0e": {
          "model_module": "@jupyter-widgets/base",
          "model_name": "LayoutModel",
          "model_module_version": "1.2.0",
          "state": {
            "_model_module": "@jupyter-widgets/base",
            "_model_module_version": "1.2.0",
            "_model_name": "LayoutModel",
            "_view_count": null,
            "_view_module": "@jupyter-widgets/base",
            "_view_module_version": "1.2.0",
            "_view_name": "LayoutView",
            "align_content": null,
            "align_items": null,
            "align_self": null,
            "border": null,
            "bottom": null,
            "display": null,
            "flex": null,
            "flex_flow": null,
            "grid_area": null,
            "grid_auto_columns": null,
            "grid_auto_flow": null,
            "grid_auto_rows": null,
            "grid_column": null,
            "grid_gap": null,
            "grid_row": null,
            "grid_template_areas": null,
            "grid_template_columns": null,
            "grid_template_rows": null,
            "height": null,
            "justify_content": null,
            "justify_items": null,
            "left": null,
            "margin": null,
            "max_height": null,
            "max_width": null,
            "min_height": null,
            "min_width": null,
            "object_fit": null,
            "object_position": null,
            "order": null,
            "overflow": null,
            "overflow_x": null,
            "overflow_y": null,
            "padding": null,
            "right": null,
            "top": null,
            "visibility": null,
            "width": "20px"
          }
        },
        "b6d9c1c9c7e94cd78663ada54ec43875": {
          "model_module": "@jupyter-widgets/controls",
          "model_name": "ProgressStyleModel",
          "model_module_version": "1.5.0",
          "state": {
            "_model_module": "@jupyter-widgets/controls",
            "_model_module_version": "1.5.0",
            "_model_name": "ProgressStyleModel",
            "_view_count": null,
            "_view_module": "@jupyter-widgets/base",
            "_view_module_version": "1.2.0",
            "_view_name": "StyleView",
            "bar_color": null,
            "description_width": ""
          }
        },
        "e05cf3c9a992464c8dd90b0e1f9518bc": {
          "model_module": "@jupyter-widgets/base",
          "model_name": "LayoutModel",
          "model_module_version": "1.2.0",
          "state": {
            "_model_module": "@jupyter-widgets/base",
            "_model_module_version": "1.2.0",
            "_model_name": "LayoutModel",
            "_view_count": null,
            "_view_module": "@jupyter-widgets/base",
            "_view_module_version": "1.2.0",
            "_view_name": "LayoutView",
            "align_content": null,
            "align_items": null,
            "align_self": null,
            "border": null,
            "bottom": null,
            "display": null,
            "flex": null,
            "flex_flow": null,
            "grid_area": null,
            "grid_auto_columns": null,
            "grid_auto_flow": null,
            "grid_auto_rows": null,
            "grid_column": null,
            "grid_gap": null,
            "grid_row": null,
            "grid_template_areas": null,
            "grid_template_columns": null,
            "grid_template_rows": null,
            "height": null,
            "justify_content": null,
            "justify_items": null,
            "left": null,
            "margin": null,
            "max_height": null,
            "max_width": null,
            "min_height": null,
            "min_width": null,
            "object_fit": null,
            "object_position": null,
            "order": null,
            "overflow": null,
            "overflow_x": null,
            "overflow_y": null,
            "padding": null,
            "right": null,
            "top": null,
            "visibility": null,
            "width": null
          }
        },
        "6011165202d9469fb5bd6851c0d8a837": {
          "model_module": "@jupyter-widgets/controls",
          "model_name": "DescriptionStyleModel",
          "model_module_version": "1.5.0",
          "state": {
            "_model_module": "@jupyter-widgets/controls",
            "_model_module_version": "1.5.0",
            "_model_name": "DescriptionStyleModel",
            "_view_count": null,
            "_view_module": "@jupyter-widgets/base",
            "_view_module_version": "1.2.0",
            "_view_name": "StyleView",
            "description_width": ""
          }
        },
        "e3f47d6b01ca4064b33399b6820027bf": {
          "model_module": "@jupyter-widgets/controls",
          "model_name": "HBoxModel",
          "model_module_version": "1.5.0",
          "state": {
            "_dom_classes": [],
            "_model_module": "@jupyter-widgets/controls",
            "_model_module_version": "1.5.0",
            "_model_name": "HBoxModel",
            "_view_count": null,
            "_view_module": "@jupyter-widgets/controls",
            "_view_module_version": "1.5.0",
            "_view_name": "HBoxView",
            "box_style": "",
            "children": [
              "IPY_MODEL_67fa29eadb2b432fb000c8e2c6530013",
              "IPY_MODEL_fd2c7db11fe94ed2a653c0765470e258",
              "IPY_MODEL_058f55f59c7a46928b2fb33a67e8ee42"
            ],
            "layout": "IPY_MODEL_9bc636e88552405b9ff4fa0a370d55d5"
          }
        },
        "67fa29eadb2b432fb000c8e2c6530013": {
          "model_module": "@jupyter-widgets/controls",
          "model_name": "HTMLModel",
          "model_module_version": "1.5.0",
          "state": {
            "_dom_classes": [],
            "_model_module": "@jupyter-widgets/controls",
            "_model_module_version": "1.5.0",
            "_model_name": "HTMLModel",
            "_view_count": null,
            "_view_module": "@jupyter-widgets/controls",
            "_view_module_version": "1.5.0",
            "_view_name": "HTMLView",
            "description": "",
            "description_tooltip": null,
            "layout": "IPY_MODEL_55ecd5baaf61468f8c56fe81acba8bfd",
            "placeholder": "​",
            "style": "IPY_MODEL_6bce2652663e4a17891330273eb235fd",
            "value": "config.json: 100%"
          }
        },
        "fd2c7db11fe94ed2a653c0765470e258": {
          "model_module": "@jupyter-widgets/controls",
          "model_name": "FloatProgressModel",
          "model_module_version": "1.5.0",
          "state": {
            "_dom_classes": [],
            "_model_module": "@jupyter-widgets/controls",
            "_model_module_version": "1.5.0",
            "_model_name": "FloatProgressModel",
            "_view_count": null,
            "_view_module": "@jupyter-widgets/controls",
            "_view_module_version": "1.5.0",
            "_view_name": "ProgressView",
            "bar_style": "success",
            "description": "",
            "description_tooltip": null,
            "layout": "IPY_MODEL_bc234e6c735048e5ab314624d7661bc0",
            "max": 793,
            "min": 0,
            "orientation": "horizontal",
            "style": "IPY_MODEL_218a7a74ca3e485dab5e2bbd9765a5e0",
            "value": 793
          }
        },
        "058f55f59c7a46928b2fb33a67e8ee42": {
          "model_module": "@jupyter-widgets/controls",
          "model_name": "HTMLModel",
          "model_module_version": "1.5.0",
          "state": {
            "_dom_classes": [],
            "_model_module": "@jupyter-widgets/controls",
            "_model_module_version": "1.5.0",
            "_model_name": "HTMLModel",
            "_view_count": null,
            "_view_module": "@jupyter-widgets/controls",
            "_view_module_version": "1.5.0",
            "_view_name": "HTMLView",
            "description": "",
            "description_tooltip": null,
            "layout": "IPY_MODEL_27e46c80ffa549758533aceb8ec09972",
            "placeholder": "​",
            "style": "IPY_MODEL_20f9a14be2654ef4b25901925c9a9865",
            "value": " 793/793 [00:00&lt;00:00, 57.8kB/s]"
          }
        },
        "9bc636e88552405b9ff4fa0a370d55d5": {
          "model_module": "@jupyter-widgets/base",
          "model_name": "LayoutModel",
          "model_module_version": "1.2.0",
          "state": {
            "_model_module": "@jupyter-widgets/base",
            "_model_module_version": "1.2.0",
            "_model_name": "LayoutModel",
            "_view_count": null,
            "_view_module": "@jupyter-widgets/base",
            "_view_module_version": "1.2.0",
            "_view_name": "LayoutView",
            "align_content": null,
            "align_items": null,
            "align_self": null,
            "border": null,
            "bottom": null,
            "display": null,
            "flex": null,
            "flex_flow": null,
            "grid_area": null,
            "grid_auto_columns": null,
            "grid_auto_flow": null,
            "grid_auto_rows": null,
            "grid_column": null,
            "grid_gap": null,
            "grid_row": null,
            "grid_template_areas": null,
            "grid_template_columns": null,
            "grid_template_rows": null,
            "height": null,
            "justify_content": null,
            "justify_items": null,
            "left": null,
            "margin": null,
            "max_height": null,
            "max_width": null,
            "min_height": null,
            "min_width": null,
            "object_fit": null,
            "object_position": null,
            "order": null,
            "overflow": null,
            "overflow_x": null,
            "overflow_y": null,
            "padding": null,
            "right": null,
            "top": null,
            "visibility": null,
            "width": null
          }
        },
        "55ecd5baaf61468f8c56fe81acba8bfd": {
          "model_module": "@jupyter-widgets/base",
          "model_name": "LayoutModel",
          "model_module_version": "1.2.0",
          "state": {
            "_model_module": "@jupyter-widgets/base",
            "_model_module_version": "1.2.0",
            "_model_name": "LayoutModel",
            "_view_count": null,
            "_view_module": "@jupyter-widgets/base",
            "_view_module_version": "1.2.0",
            "_view_name": "LayoutView",
            "align_content": null,
            "align_items": null,
            "align_self": null,
            "border": null,
            "bottom": null,
            "display": null,
            "flex": null,
            "flex_flow": null,
            "grid_area": null,
            "grid_auto_columns": null,
            "grid_auto_flow": null,
            "grid_auto_rows": null,
            "grid_column": null,
            "grid_gap": null,
            "grid_row": null,
            "grid_template_areas": null,
            "grid_template_columns": null,
            "grid_template_rows": null,
            "height": null,
            "justify_content": null,
            "justify_items": null,
            "left": null,
            "margin": null,
            "max_height": null,
            "max_width": null,
            "min_height": null,
            "min_width": null,
            "object_fit": null,
            "object_position": null,
            "order": null,
            "overflow": null,
            "overflow_x": null,
            "overflow_y": null,
            "padding": null,
            "right": null,
            "top": null,
            "visibility": null,
            "width": null
          }
        },
        "6bce2652663e4a17891330273eb235fd": {
          "model_module": "@jupyter-widgets/controls",
          "model_name": "DescriptionStyleModel",
          "model_module_version": "1.5.0",
          "state": {
            "_model_module": "@jupyter-widgets/controls",
            "_model_module_version": "1.5.0",
            "_model_name": "DescriptionStyleModel",
            "_view_count": null,
            "_view_module": "@jupyter-widgets/base",
            "_view_module_version": "1.2.0",
            "_view_name": "StyleView",
            "description_width": ""
          }
        },
        "bc234e6c735048e5ab314624d7661bc0": {
          "model_module": "@jupyter-widgets/base",
          "model_name": "LayoutModel",
          "model_module_version": "1.2.0",
          "state": {
            "_model_module": "@jupyter-widgets/base",
            "_model_module_version": "1.2.0",
            "_model_name": "LayoutModel",
            "_view_count": null,
            "_view_module": "@jupyter-widgets/base",
            "_view_module_version": "1.2.0",
            "_view_name": "LayoutView",
            "align_content": null,
            "align_items": null,
            "align_self": null,
            "border": null,
            "bottom": null,
            "display": null,
            "flex": null,
            "flex_flow": null,
            "grid_area": null,
            "grid_auto_columns": null,
            "grid_auto_flow": null,
            "grid_auto_rows": null,
            "grid_column": null,
            "grid_gap": null,
            "grid_row": null,
            "grid_template_areas": null,
            "grid_template_columns": null,
            "grid_template_rows": null,
            "height": null,
            "justify_content": null,
            "justify_items": null,
            "left": null,
            "margin": null,
            "max_height": null,
            "max_width": null,
            "min_height": null,
            "min_width": null,
            "object_fit": null,
            "object_position": null,
            "order": null,
            "overflow": null,
            "overflow_x": null,
            "overflow_y": null,
            "padding": null,
            "right": null,
            "top": null,
            "visibility": null,
            "width": null
          }
        },
        "218a7a74ca3e485dab5e2bbd9765a5e0": {
          "model_module": "@jupyter-widgets/controls",
          "model_name": "ProgressStyleModel",
          "model_module_version": "1.5.0",
          "state": {
            "_model_module": "@jupyter-widgets/controls",
            "_model_module_version": "1.5.0",
            "_model_name": "ProgressStyleModel",
            "_view_count": null,
            "_view_module": "@jupyter-widgets/base",
            "_view_module_version": "1.2.0",
            "_view_name": "StyleView",
            "bar_color": null,
            "description_width": ""
          }
        },
        "27e46c80ffa549758533aceb8ec09972": {
          "model_module": "@jupyter-widgets/base",
          "model_name": "LayoutModel",
          "model_module_version": "1.2.0",
          "state": {
            "_model_module": "@jupyter-widgets/base",
            "_model_module_version": "1.2.0",
            "_model_name": "LayoutModel",
            "_view_count": null,
            "_view_module": "@jupyter-widgets/base",
            "_view_module_version": "1.2.0",
            "_view_name": "LayoutView",
            "align_content": null,
            "align_items": null,
            "align_self": null,
            "border": null,
            "bottom": null,
            "display": null,
            "flex": null,
            "flex_flow": null,
            "grid_area": null,
            "grid_auto_columns": null,
            "grid_auto_flow": null,
            "grid_auto_rows": null,
            "grid_column": null,
            "grid_gap": null,
            "grid_row": null,
            "grid_template_areas": null,
            "grid_template_columns": null,
            "grid_template_rows": null,
            "height": null,
            "justify_content": null,
            "justify_items": null,
            "left": null,
            "margin": null,
            "max_height": null,
            "max_width": null,
            "min_height": null,
            "min_width": null,
            "object_fit": null,
            "object_position": null,
            "order": null,
            "overflow": null,
            "overflow_x": null,
            "overflow_y": null,
            "padding": null,
            "right": null,
            "top": null,
            "visibility": null,
            "width": null
          }
        },
        "20f9a14be2654ef4b25901925c9a9865": {
          "model_module": "@jupyter-widgets/controls",
          "model_name": "DescriptionStyleModel",
          "model_module_version": "1.5.0",
          "state": {
            "_model_module": "@jupyter-widgets/controls",
            "_model_module_version": "1.5.0",
            "_model_name": "DescriptionStyleModel",
            "_view_count": null,
            "_view_module": "@jupyter-widgets/base",
            "_view_module_version": "1.2.0",
            "_view_name": "StyleView",
            "description_width": ""
          }
        },
        "5d0d41a485b845d5bf2d8cc1bcd36334": {
          "model_module": "@jupyter-widgets/controls",
          "model_name": "HBoxModel",
          "model_module_version": "1.5.0",
          "state": {
            "_dom_classes": [],
            "_model_module": "@jupyter-widgets/controls",
            "_model_module_version": "1.5.0",
            "_model_name": "HBoxModel",
            "_view_count": null,
            "_view_module": "@jupyter-widgets/controls",
            "_view_module_version": "1.5.0",
            "_view_name": "HBoxView",
            "box_style": "",
            "children": [
              "IPY_MODEL_a7d4f2dfb1534c3dbeb0d1508163cb23",
              "IPY_MODEL_05c3cb2ede3749899870c768db6c80e0",
              "IPY_MODEL_eaebca23a08440b0a490519dbd105828"
            ],
            "layout": "IPY_MODEL_5c85775fc4094b069899aed39cc7f745"
          }
        },
        "a7d4f2dfb1534c3dbeb0d1508163cb23": {
          "model_module": "@jupyter-widgets/controls",
          "model_name": "HTMLModel",
          "model_module_version": "1.5.0",
          "state": {
            "_dom_classes": [],
            "_model_module": "@jupyter-widgets/controls",
            "_model_module_version": "1.5.0",
            "_model_name": "HTMLModel",
            "_view_count": null,
            "_view_module": "@jupyter-widgets/controls",
            "_view_module_version": "1.5.0",
            "_view_name": "HTMLView",
            "description": "",
            "description_tooltip": null,
            "layout": "IPY_MODEL_0f0c1175b1c54ca0bcbad3929d668aef",
            "placeholder": "​",
            "style": "IPY_MODEL_5a1163595d0843ea819cdfddc8a07d64",
            "value": "model.safetensors: 100%"
          }
        },
        "05c3cb2ede3749899870c768db6c80e0": {
          "model_module": "@jupyter-widgets/controls",
          "model_name": "FloatProgressModel",
          "model_module_version": "1.5.0",
          "state": {
            "_dom_classes": [],
            "_model_module": "@jupyter-widgets/controls",
            "_model_module_version": "1.5.0",
            "_model_name": "FloatProgressModel",
            "_view_count": null,
            "_view_module": "@jupyter-widgets/controls",
            "_view_module_version": "1.5.0",
            "_view_name": "ProgressView",
            "bar_style": "success",
            "description": "",
            "description_tooltip": null,
            "layout": "IPY_MODEL_662f80b4117b4887a707d599a36e0829",
            "max": 33626152,
            "min": 0,
            "orientation": "horizontal",
            "style": "IPY_MODEL_a3dc7f84f153409e968dca225d427fbb",
            "value": 33626152
          }
        },
        "eaebca23a08440b0a490519dbd105828": {
          "model_module": "@jupyter-widgets/controls",
          "model_name": "HTMLModel",
          "model_module_version": "1.5.0",
          "state": {
            "_dom_classes": [],
            "_model_module": "@jupyter-widgets/controls",
            "_model_module_version": "1.5.0",
            "_model_name": "HTMLModel",
            "_view_count": null,
            "_view_module": "@jupyter-widgets/controls",
            "_view_module_version": "1.5.0",
            "_view_name": "HTMLView",
            "description": "",
            "description_tooltip": null,
            "layout": "IPY_MODEL_f00d53fac2a1403abef3ddaf24d23b5b",
            "placeholder": "​",
            "style": "IPY_MODEL_dcc6c784203547b495d5ebefec3252a2",
            "value": " 33.6M/33.6M [00:00&lt;00:00, 171MB/s]"
          }
        },
        "5c85775fc4094b069899aed39cc7f745": {
          "model_module": "@jupyter-widgets/base",
          "model_name": "LayoutModel",
          "model_module_version": "1.2.0",
          "state": {
            "_model_module": "@jupyter-widgets/base",
            "_model_module_version": "1.2.0",
            "_model_name": "LayoutModel",
            "_view_count": null,
            "_view_module": "@jupyter-widgets/base",
            "_view_module_version": "1.2.0",
            "_view_name": "LayoutView",
            "align_content": null,
            "align_items": null,
            "align_self": null,
            "border": null,
            "bottom": null,
            "display": null,
            "flex": null,
            "flex_flow": null,
            "grid_area": null,
            "grid_auto_columns": null,
            "grid_auto_flow": null,
            "grid_auto_rows": null,
            "grid_column": null,
            "grid_gap": null,
            "grid_row": null,
            "grid_template_areas": null,
            "grid_template_columns": null,
            "grid_template_rows": null,
            "height": null,
            "justify_content": null,
            "justify_items": null,
            "left": null,
            "margin": null,
            "max_height": null,
            "max_width": null,
            "min_height": null,
            "min_width": null,
            "object_fit": null,
            "object_position": null,
            "order": null,
            "overflow": null,
            "overflow_x": null,
            "overflow_y": null,
            "padding": null,
            "right": null,
            "top": null,
            "visibility": null,
            "width": null
          }
        },
        "0f0c1175b1c54ca0bcbad3929d668aef": {
          "model_module": "@jupyter-widgets/base",
          "model_name": "LayoutModel",
          "model_module_version": "1.2.0",
          "state": {
            "_model_module": "@jupyter-widgets/base",
            "_model_module_version": "1.2.0",
            "_model_name": "LayoutModel",
            "_view_count": null,
            "_view_module": "@jupyter-widgets/base",
            "_view_module_version": "1.2.0",
            "_view_name": "LayoutView",
            "align_content": null,
            "align_items": null,
            "align_self": null,
            "border": null,
            "bottom": null,
            "display": null,
            "flex": null,
            "flex_flow": null,
            "grid_area": null,
            "grid_auto_columns": null,
            "grid_auto_flow": null,
            "grid_auto_rows": null,
            "grid_column": null,
            "grid_gap": null,
            "grid_row": null,
            "grid_template_areas": null,
            "grid_template_columns": null,
            "grid_template_rows": null,
            "height": null,
            "justify_content": null,
            "justify_items": null,
            "left": null,
            "margin": null,
            "max_height": null,
            "max_width": null,
            "min_height": null,
            "min_width": null,
            "object_fit": null,
            "object_position": null,
            "order": null,
            "overflow": null,
            "overflow_x": null,
            "overflow_y": null,
            "padding": null,
            "right": null,
            "top": null,
            "visibility": null,
            "width": null
          }
        },
        "5a1163595d0843ea819cdfddc8a07d64": {
          "model_module": "@jupyter-widgets/controls",
          "model_name": "DescriptionStyleModel",
          "model_module_version": "1.5.0",
          "state": {
            "_model_module": "@jupyter-widgets/controls",
            "_model_module_version": "1.5.0",
            "_model_name": "DescriptionStyleModel",
            "_view_count": null,
            "_view_module": "@jupyter-widgets/base",
            "_view_module_version": "1.2.0",
            "_view_name": "StyleView",
            "description_width": ""
          }
        },
        "662f80b4117b4887a707d599a36e0829": {
          "model_module": "@jupyter-widgets/base",
          "model_name": "LayoutModel",
          "model_module_version": "1.2.0",
          "state": {
            "_model_module": "@jupyter-widgets/base",
            "_model_module_version": "1.2.0",
            "_model_name": "LayoutModel",
            "_view_count": null,
            "_view_module": "@jupyter-widgets/base",
            "_view_module_version": "1.2.0",
            "_view_name": "LayoutView",
            "align_content": null,
            "align_items": null,
            "align_self": null,
            "border": null,
            "bottom": null,
            "display": null,
            "flex": null,
            "flex_flow": null,
            "grid_area": null,
            "grid_auto_columns": null,
            "grid_auto_flow": null,
            "grid_auto_rows": null,
            "grid_column": null,
            "grid_gap": null,
            "grid_row": null,
            "grid_template_areas": null,
            "grid_template_columns": null,
            "grid_template_rows": null,
            "height": null,
            "justify_content": null,
            "justify_items": null,
            "left": null,
            "margin": null,
            "max_height": null,
            "max_width": null,
            "min_height": null,
            "min_width": null,
            "object_fit": null,
            "object_position": null,
            "order": null,
            "overflow": null,
            "overflow_x": null,
            "overflow_y": null,
            "padding": null,
            "right": null,
            "top": null,
            "visibility": null,
            "width": null
          }
        },
        "a3dc7f84f153409e968dca225d427fbb": {
          "model_module": "@jupyter-widgets/controls",
          "model_name": "ProgressStyleModel",
          "model_module_version": "1.5.0",
          "state": {
            "_model_module": "@jupyter-widgets/controls",
            "_model_module_version": "1.5.0",
            "_model_name": "ProgressStyleModel",
            "_view_count": null,
            "_view_module": "@jupyter-widgets/base",
            "_view_module_version": "1.2.0",
            "_view_name": "StyleView",
            "bar_color": null,
            "description_width": ""
          }
        },
        "f00d53fac2a1403abef3ddaf24d23b5b": {
          "model_module": "@jupyter-widgets/base",
          "model_name": "LayoutModel",
          "model_module_version": "1.2.0",
          "state": {
            "_model_module": "@jupyter-widgets/base",
            "_model_module_version": "1.2.0",
            "_model_name": "LayoutModel",
            "_view_count": null,
            "_view_module": "@jupyter-widgets/base",
            "_view_module_version": "1.2.0",
            "_view_name": "LayoutView",
            "align_content": null,
            "align_items": null,
            "align_self": null,
            "border": null,
            "bottom": null,
            "display": null,
            "flex": null,
            "flex_flow": null,
            "grid_area": null,
            "grid_auto_columns": null,
            "grid_auto_flow": null,
            "grid_auto_rows": null,
            "grid_column": null,
            "grid_gap": null,
            "grid_row": null,
            "grid_template_areas": null,
            "grid_template_columns": null,
            "grid_template_rows": null,
            "height": null,
            "justify_content": null,
            "justify_items": null,
            "left": null,
            "margin": null,
            "max_height": null,
            "max_width": null,
            "min_height": null,
            "min_width": null,
            "object_fit": null,
            "object_position": null,
            "order": null,
            "overflow": null,
            "overflow_x": null,
            "overflow_y": null,
            "padding": null,
            "right": null,
            "top": null,
            "visibility": null,
            "width": null
          }
        },
        "dcc6c784203547b495d5ebefec3252a2": {
          "model_module": "@jupyter-widgets/controls",
          "model_name": "DescriptionStyleModel",
          "model_module_version": "1.5.0",
          "state": {
            "_model_module": "@jupyter-widgets/controls",
            "_model_module_version": "1.5.0",
            "_model_name": "DescriptionStyleModel",
            "_view_count": null,
            "_view_module": "@jupyter-widgets/base",
            "_view_module_version": "1.2.0",
            "_view_name": "StyleView",
            "description_width": ""
          }
        }
      }
    },
    "accelerator": "GPU"
  },
  "nbformat": 4,
  "nbformat_minor": 0
}